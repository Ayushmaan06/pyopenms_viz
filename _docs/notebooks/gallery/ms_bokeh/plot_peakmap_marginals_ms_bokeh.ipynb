{
  "cells": [
    {
      "cell_type": "markdown",
      "metadata": {},
      "source": [
        "\n# PeakMap ms_bokeh\n\nThis example plots a peakmap with marginals by setting `add_marginals=True`\nA chromatogram is shown along the x-axis and a spectrum is shown along the y-axis.\n"
      ]
    },
    {
      "cell_type": "code",
      "execution_count": null,
      "metadata": {
        "collapsed": false
      },
      "outputs": [],
      "source": [
        "import pandas as pd\nfrom pyopenms_viz import TEST_DATA_PATH\n\npd.options.plotting.backend = \"ms_bokeh\"\n\n# load the test file for example plotting\ndata = TEST_DATA_PATH() / \"ionMobilityTestFeatureDf.tsv\"\ndf = pd.read_csv(data, sep=\"\\t\")\n\ndf.plot(\n    kind=\"peakmap\",\n    x=\"rt\",\n    y=\"mz\",\n    z=\"int\",\n    add_marginals=True,\n    aggregate_duplicates=True,\n)"
      ]
    }
  ],
  "metadata": {
    "kernelspec": {
      "display_name": "Python 3",
      "language": "python",
      "name": "python3"
    },
    "language_info": {
      "codemirror_mode": {
        "name": "ipython",
        "version": 3
      },
      "file_extension": ".py",
      "mimetype": "text/x-python",
      "name": "python",
      "nbconvert_exporter": "python",
      "pygments_lexer": "ipython3",
      "version": "3.12.8"
    }
  },
  "nbformat": 4,
  "nbformat_minor": 0
}