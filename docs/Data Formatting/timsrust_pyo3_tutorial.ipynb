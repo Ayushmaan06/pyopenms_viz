{
 "cells": [
  {
   "cell_type": "markdown",
   "id": "0cfb6971-55cc-4e78-89f0-9bf511133d08",
   "metadata": {},
   "source": [
    "# `.d` to `pd.DataFrame` using timsrust_py03"
   ]
  },
  {
   "cell_type": "markdown",
   "id": "e00c5bd3-517f-4a9b-995e-ab1e297c35f9",
   "metadata": {},
   "source": [
    "## Install timsrust_py03"
   ]
  },
  {
   "cell_type": "code",
   "execution_count": 4,
   "id": "f4236292-ec37-47d5-bdc8-a567cc14fd85",
   "metadata": {},
   "outputs": [
    {
     "name": "stdout",
     "output_type": "stream",
     "text": [
      "Requirement already satisfied: timsrust_pyo3 in /home/joshua/mambaforge/envs/pyopenms-viz/lib/python3.12/site-packages (0.4.1)\n"
     ]
    }
   ],
   "source": [
    "!pip install timsrust_pyo3"
   ]
  },
  {
   "cell_type": "code",
   "execution_count": 3,
   "id": "7af8af3f-1366-4d8b-a23a-ac3b89a7810e",
   "metadata": {},
   "outputs": [],
   "source": [
    "from dataclasses import dataclass\n",
    "import pandas as pd\n",
    "import numpy as np\n",
    "import sqlite3\n",
    "import timsrust_pyo3\n",
    "import time"
   ]
  },
  {
   "cell_type": "markdown",
   "id": "86f06357-9eae-40d5-a95d-123fa0f9d940",
   "metadata": {},
   "source": [
    "## Download Test Data"
   ]
  },
  {
   "cell_type": "code",
   "execution_count": 5,
   "id": "544da32f-6252-4945-8c5e-9df9c67ee51b",
   "metadata": {},
   "outputs": [
    {
     "name": "stdout",
     "output_type": "stream",
     "text": [
      "File 20201207_tims03_Evo03_PS_SA_HeLa_200ng_EvoSep_prot_DDA_21min_8cm_S1-C10_1_22476.d.zip downloaded successfully!\n",
      "File extracted to ./!\n",
      "Zip file 20201207_tims03_Evo03_PS_SA_HeLa_200ng_EvoSep_prot_DDA_21min_8cm_S1-C10_1_22476.d.zip removed.\n"
     ]
    }
   ],
   "source": [
    "import requests\n",
    "import zipfile\n",
    "import os\n",
    "\n",
    "# # Define the URL and file name\n",
    "url = 'https://github.com/MannLabs/alphatims/releases/download/0.1.210317/20201207_tims03_Evo03_PS_SA_HeLa_200ng_EvoSep_prot_DDA_21min_8cm_S1-C10_1_22476.d.zip'\n",
    "file_name = '20201207_tims03_Evo03_PS_SA_HeLa_200ng_EvoSep_prot_DDA_21min_8cm_S1-C10_1_22476.d.zip'\n",
    "extract_dir = './'  # Directory to extract the contents\n",
    "\n",
    "# # Download the file\n",
    "response = requests.get(url)\n",
    "with open(file_name, 'wb') as file:\n",
    "    file.write(response.content)\n",
    "\n",
    "print(f'File {file_name} downloaded successfully!')\n",
    "\n",
    "# Unzip the file\n",
    "with zipfile.ZipFile(file_name, 'r') as zip_ref:\n",
    "    zip_ref.extractall(extract_dir)\n",
    "\n",
    "print(f'File extracted to {extract_dir}!')\n",
    "\n",
    "# Optionally, remove the zip file after extraction\n",
    "os.remove(file_name)\n",
    "print(f'Zip file {file_name} removed.')"
   ]
  },
  {
   "cell_type": "raw",
   "id": "644e29c3-7d6c-455f-ba87-0b6d7bf37a20",
   "metadata": {},
   "source": [
    "@dataclass\n",
    "class DenseFrame:\n",
    "    rt: float\n",
    "    intensities: list[int]\n",
    "    mzs: list[float]\n",
    "    imss: list[float]\n",
    "\n",
    "    @classmethod\n",
    "    def from_frame(\n",
    "        cls, frame, reader\n",
    "    ):\n",
    "        mzs = reader.resolve_mzs(frame.tof_indices)\n",
    "        out_imss = [None] * len(mzs)\n",
    "        last_so = 0\n",
    "        for ims, so in zip(\n",
    "            reader.resolve_scans(list(range(1, len(frame.scan_offsets) + 1))),\n",
    "            frame.scan_offsets,\n",
    "            strict=True,\n",
    "        ):\n",
    "            out_imss[last_so:so] = [ims] * (so - last_so)\n",
    "            last_so = so\n",
    "\n",
    "        return cls(\n",
    "            rt=frame.rt,\n",
    "            intensities=frame.intensities,\n",
    "            mzs=mzs,\n",
    "            imss=out_imss,\n",
    "        )"
   ]
  },
  {
   "cell_type": "raw",
   "id": "4b994602-67b0-44c3-9941-8fcf1a7414cc",
   "metadata": {},
   "source": [
    "file =  \"./20201207_tims03_Evo03_PS_SA_HeLa_200ng_EvoSep_prot_DDA_21min_8cm_S1-C10_1_22476.d/\"\n",
    "start_time = time.time()\n",
    "reader = timsrust_pyo3.TimsReader(file)\n",
    "allframes = reader.read_all_frames()\n",
    "end_time = time.time()\n",
    "elapsed_time = end_time - start_time\n",
    "print(f'Time taken to run the code: {elapsed_time:.2f} seconds')"
   ]
  }
 ],
 "metadata": {
  "kernelspec": {
   "display_name": "Python 3 (ipykernel)",
   "language": "python",
   "name": "python3"
  },
  "language_info": {
   "codemirror_mode": {
    "name": "ipython",
    "version": 3
   },
   "file_extension": ".py",
   "mimetype": "text/x-python",
   "name": "python",
   "nbconvert_exporter": "python",
   "pygments_lexer": "ipython3",
   "version": "3.12.7"
  }
 },
 "nbformat": 4,
 "nbformat_minor": 5
}
