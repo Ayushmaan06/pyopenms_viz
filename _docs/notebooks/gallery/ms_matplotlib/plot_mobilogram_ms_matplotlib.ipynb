{
  "cells": [
    {
      "cell_type": "markdown",
      "metadata": {},
      "source": [
        "\n# Mobilogram ms_matplotlib\n\nThis example makes a simple plot\nThis example shows how to use different approaches.\n"
      ]
    },
    {
      "cell_type": "code",
      "execution_count": null,
      "metadata": {
        "collapsed": false
      },
      "outputs": [],
      "source": [
        "import pandas as pd\nfrom pyopenms_viz import TEST_DATA_PATH\n\npd.options.plotting.backend = \"ms_matplotlib\"\n\n# load the test file for example plotting\ndata = TEST_DATA_PATH() / \"ionMobilityTestFeatureDf.tsv\"\ndf = pd.read_csv(data, sep=\"\\t\")\n\ndf.plot(\n    kind=\"mobilogram\",\n    x=\"im\",\n    y=\"int\",\n    by=\"Annotation\",\n    aggregate_duplicates=True,\n    legend=dict(bbox_to_anchor=(1, 0.7)),\n)"
      ]
    }
  ],
  "metadata": {
    "kernelspec": {
      "display_name": "Python 3",
      "language": "python",
      "name": "python3"
    },
    "language_info": {
      "codemirror_mode": {
        "name": "ipython",
        "version": 3
      },
      "file_extension": ".py",
      "mimetype": "text/x-python",
      "name": "python",
      "nbconvert_exporter": "python",
      "pygments_lexer": "ipython3",
      "version": "3.12.8"
    }
  },
  "nbformat": 4,
  "nbformat_minor": 0
}