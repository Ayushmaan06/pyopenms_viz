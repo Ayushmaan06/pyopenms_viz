{
 "cells": [
  {
   "cell_type": "code",
   "execution_count": 1,
   "id": "701372eb-91f9-4588-b4b1-f8e37fb70819",
   "metadata": {},
   "outputs": [
    {
     "data": {
      "text/html": [
       "<div class=\"bk-root\">\n",
       "        <a href=\"https://bokeh.org\" target=\"_blank\" class=\"bk-logo bk-logo-small bk-logo-notebook\"></a>\n",
       "        <span id=\"1001\">Loading BokehJS ...</span>\n",
       "    </div>\n"
      ]
     },
     "metadata": {},
     "output_type": "display_data"
    },
    {
     "data": {
      "application/javascript": [
       "(function(root) {\n",
       "  function now() {\n",
       "    return new Date();\n",
       "  }\n",
       "\n",
       "  const force = true;\n",
       "\n",
       "  if (typeof root._bokeh_onload_callbacks === \"undefined\" || force === true) {\n",
       "    root._bokeh_onload_callbacks = [];\n",
       "    root._bokeh_is_loading = undefined;\n",
       "  }\n",
       "\n",
       "const JS_MIME_TYPE = 'application/javascript';\n",
       "  const HTML_MIME_TYPE = 'text/html';\n",
       "  const EXEC_MIME_TYPE = 'application/vnd.bokehjs_exec.v0+json';\n",
       "  const CLASS_NAME = 'output_bokeh rendered_html';\n",
       "\n",
       "  /**\n",
       "   * Render data to the DOM node\n",
       "   */\n",
       "  function render(props, node) {\n",
       "    const script = document.createElement(\"script\");\n",
       "    node.appendChild(script);\n",
       "  }\n",
       "\n",
       "  /**\n",
       "   * Handle when an output is cleared or removed\n",
       "   */\n",
       "  function handleClearOutput(event, handle) {\n",
       "    const cell = handle.cell;\n",
       "\n",
       "    const id = cell.output_area._bokeh_element_id;\n",
       "    const server_id = cell.output_area._bokeh_server_id;\n",
       "    // Clean up Bokeh references\n",
       "    if (id != null && id in Bokeh.index) {\n",
       "      Bokeh.index[id].model.document.clear();\n",
       "      delete Bokeh.index[id];\n",
       "    }\n",
       "\n",
       "    if (server_id !== undefined) {\n",
       "      // Clean up Bokeh references\n",
       "      const cmd_clean = \"from bokeh.io.state import curstate; print(curstate().uuid_to_server['\" + server_id + \"'].get_sessions()[0].document.roots[0]._id)\";\n",
       "      cell.notebook.kernel.execute(cmd_clean, {\n",
       "        iopub: {\n",
       "          output: function(msg) {\n",
       "            const id = msg.content.text.trim();\n",
       "            if (id in Bokeh.index) {\n",
       "              Bokeh.index[id].model.document.clear();\n",
       "              delete Bokeh.index[id];\n",
       "            }\n",
       "          }\n",
       "        }\n",
       "      });\n",
       "      // Destroy server and session\n",
       "      const cmd_destroy = \"import bokeh.io.notebook as ion; ion.destroy_server('\" + server_id + \"')\";\n",
       "      cell.notebook.kernel.execute(cmd_destroy);\n",
       "    }\n",
       "  }\n",
       "\n",
       "  /**\n",
       "   * Handle when a new output is added\n",
       "   */\n",
       "  function handleAddOutput(event, handle) {\n",
       "    const output_area = handle.output_area;\n",
       "    const output = handle.output;\n",
       "\n",
       "    // limit handleAddOutput to display_data with EXEC_MIME_TYPE content only\n",
       "    if ((output.output_type != \"display_data\") || (!Object.prototype.hasOwnProperty.call(output.data, EXEC_MIME_TYPE))) {\n",
       "      return\n",
       "    }\n",
       "\n",
       "    const toinsert = output_area.element.find(\".\" + CLASS_NAME.split(' ')[0]);\n",
       "\n",
       "    if (output.metadata[EXEC_MIME_TYPE][\"id\"] !== undefined) {\n",
       "      toinsert[toinsert.length - 1].firstChild.textContent = output.data[JS_MIME_TYPE];\n",
       "      // store reference to embed id on output_area\n",
       "      output_area._bokeh_element_id = output.metadata[EXEC_MIME_TYPE][\"id\"];\n",
       "    }\n",
       "    if (output.metadata[EXEC_MIME_TYPE][\"server_id\"] !== undefined) {\n",
       "      const bk_div = document.createElement(\"div\");\n",
       "      bk_div.innerHTML = output.data[HTML_MIME_TYPE];\n",
       "      const script_attrs = bk_div.children[0].attributes;\n",
       "      for (let i = 0; i < script_attrs.length; i++) {\n",
       "        toinsert[toinsert.length - 1].firstChild.setAttribute(script_attrs[i].name, script_attrs[i].value);\n",
       "        toinsert[toinsert.length - 1].firstChild.textContent = bk_div.children[0].textContent\n",
       "      }\n",
       "      // store reference to server id on output_area\n",
       "      output_area._bokeh_server_id = output.metadata[EXEC_MIME_TYPE][\"server_id\"];\n",
       "    }\n",
       "  }\n",
       "\n",
       "  function register_renderer(events, OutputArea) {\n",
       "\n",
       "    function append_mime(data, metadata, element) {\n",
       "      // create a DOM node to render to\n",
       "      const toinsert = this.create_output_subarea(\n",
       "        metadata,\n",
       "        CLASS_NAME,\n",
       "        EXEC_MIME_TYPE\n",
       "      );\n",
       "      this.keyboard_manager.register_events(toinsert);\n",
       "      // Render to node\n",
       "      const props = {data: data, metadata: metadata[EXEC_MIME_TYPE]};\n",
       "      render(props, toinsert[toinsert.length - 1]);\n",
       "      element.append(toinsert);\n",
       "      return toinsert\n",
       "    }\n",
       "\n",
       "    /* Handle when an output is cleared or removed */\n",
       "    events.on('clear_output.CodeCell', handleClearOutput);\n",
       "    events.on('delete.Cell', handleClearOutput);\n",
       "\n",
       "    /* Handle when a new output is added */\n",
       "    events.on('output_added.OutputArea', handleAddOutput);\n",
       "\n",
       "    /**\n",
       "     * Register the mime type and append_mime function with output_area\n",
       "     */\n",
       "    OutputArea.prototype.register_mime_type(EXEC_MIME_TYPE, append_mime, {\n",
       "      /* Is output safe? */\n",
       "      safe: true,\n",
       "      /* Index of renderer in `output_area.display_order` */\n",
       "      index: 0\n",
       "    });\n",
       "  }\n",
       "\n",
       "  // register the mime type if in Jupyter Notebook environment and previously unregistered\n",
       "  if (root.Jupyter !== undefined) {\n",
       "    const events = require('base/js/events');\n",
       "    const OutputArea = require('notebook/js/outputarea').OutputArea;\n",
       "\n",
       "    if (OutputArea.prototype.mime_types().indexOf(EXEC_MIME_TYPE) == -1) {\n",
       "      register_renderer(events, OutputArea);\n",
       "    }\n",
       "  }\n",
       "  if (typeof (root._bokeh_timeout) === \"undefined\" || force === true) {\n",
       "    root._bokeh_timeout = Date.now() + 5000;\n",
       "    root._bokeh_failed_load = false;\n",
       "  }\n",
       "\n",
       "  const NB_LOAD_WARNING = {'data': {'text/html':\n",
       "     \"<div style='background-color: #fdd'>\\n\"+\n",
       "     \"<p>\\n\"+\n",
       "     \"BokehJS does not appear to have successfully loaded. If loading BokehJS from CDN, this \\n\"+\n",
       "     \"may be due to a slow or bad network connection. Possible fixes:\\n\"+\n",
       "     \"</p>\\n\"+\n",
       "     \"<ul>\\n\"+\n",
       "     \"<li>re-rerun `output_notebook()` to attempt to load from CDN again, or</li>\\n\"+\n",
       "     \"<li>use INLINE resources instead, as so:</li>\\n\"+\n",
       "     \"</ul>\\n\"+\n",
       "     \"<code>\\n\"+\n",
       "     \"from bokeh.resources import INLINE\\n\"+\n",
       "     \"output_notebook(resources=INLINE)\\n\"+\n",
       "     \"</code>\\n\"+\n",
       "     \"</div>\"}};\n",
       "\n",
       "  function display_loaded() {\n",
       "    const el = document.getElementById(\"1001\");\n",
       "    if (el != null) {\n",
       "      el.textContent = \"BokehJS is loading...\";\n",
       "    }\n",
       "    if (root.Bokeh !== undefined) {\n",
       "      if (el != null) {\n",
       "        el.textContent = \"BokehJS \" + root.Bokeh.version + \" successfully loaded.\";\n",
       "      }\n",
       "    } else if (Date.now() < root._bokeh_timeout) {\n",
       "      setTimeout(display_loaded, 100)\n",
       "    }\n",
       "  }\n",
       "\n",
       "  function run_callbacks() {\n",
       "    try {\n",
       "      root._bokeh_onload_callbacks.forEach(function(callback) {\n",
       "        if (callback != null)\n",
       "          callback();\n",
       "      });\n",
       "    } finally {\n",
       "      delete root._bokeh_onload_callbacks\n",
       "    }\n",
       "    console.debug(\"Bokeh: all callbacks have finished\");\n",
       "  }\n",
       "\n",
       "  function load_libs(css_urls, js_urls, callback) {\n",
       "    if (css_urls == null) css_urls = [];\n",
       "    if (js_urls == null) js_urls = [];\n",
       "\n",
       "    root._bokeh_onload_callbacks.push(callback);\n",
       "    if (root._bokeh_is_loading > 0) {\n",
       "      console.debug(\"Bokeh: BokehJS is being loaded, scheduling callback at\", now());\n",
       "      return null;\n",
       "    }\n",
       "    if (js_urls == null || js_urls.length === 0) {\n",
       "      run_callbacks();\n",
       "      return null;\n",
       "    }\n",
       "    console.debug(\"Bokeh: BokehJS not loaded, scheduling load and callback at\", now());\n",
       "    root._bokeh_is_loading = css_urls.length + js_urls.length;\n",
       "\n",
       "    function on_load() {\n",
       "      root._bokeh_is_loading--;\n",
       "      if (root._bokeh_is_loading === 0) {\n",
       "        console.debug(\"Bokeh: all BokehJS libraries/stylesheets loaded\");\n",
       "        run_callbacks()\n",
       "      }\n",
       "    }\n",
       "\n",
       "    function on_error(url) {\n",
       "      console.error(\"failed to load \" + url);\n",
       "    }\n",
       "\n",
       "    for (let i = 0; i < css_urls.length; i++) {\n",
       "      const url = css_urls[i];\n",
       "      const element = document.createElement(\"link\");\n",
       "      element.onload = on_load;\n",
       "      element.onerror = on_error.bind(null, url);\n",
       "      element.rel = \"stylesheet\";\n",
       "      element.type = \"text/css\";\n",
       "      element.href = url;\n",
       "      console.debug(\"Bokeh: injecting link tag for BokehJS stylesheet: \", url);\n",
       "      document.body.appendChild(element);\n",
       "    }\n",
       "\n",
       "    for (let i = 0; i < js_urls.length; i++) {\n",
       "      const url = js_urls[i];\n",
       "      const element = document.createElement('script');\n",
       "      element.onload = on_load;\n",
       "      element.onerror = on_error.bind(null, url);\n",
       "      element.async = false;\n",
       "      element.src = url;\n",
       "      console.debug(\"Bokeh: injecting script tag for BokehJS library: \", url);\n",
       "      document.head.appendChild(element);\n",
       "    }\n",
       "  };\n",
       "\n",
       "  function inject_raw_css(css) {\n",
       "    const element = document.createElement(\"style\");\n",
       "    element.appendChild(document.createTextNode(css));\n",
       "    document.body.appendChild(element);\n",
       "  }\n",
       "\n",
       "  const js_urls = [\"https://cdn.bokeh.org/bokeh/release/bokeh-2.4.3.min.js\", \"https://cdn.bokeh.org/bokeh/release/bokeh-gl-2.4.3.min.js\", \"https://cdn.bokeh.org/bokeh/release/bokeh-widgets-2.4.3.min.js\", \"https://cdn.bokeh.org/bokeh/release/bokeh-tables-2.4.3.min.js\", \"https://cdn.bokeh.org/bokeh/release/bokeh-mathjax-2.4.3.min.js\"];\n",
       "  const css_urls = [];\n",
       "\n",
       "  const inline_js = [    function(Bokeh) {\n",
       "      Bokeh.set_log_level(\"info\");\n",
       "    },\n",
       "function(Bokeh) {\n",
       "    }\n",
       "  ];\n",
       "\n",
       "  function run_inline_js() {\n",
       "    if (root.Bokeh !== undefined || force === true) {\n",
       "          for (let i = 0; i < inline_js.length; i++) {\n",
       "      inline_js[i].call(root, root.Bokeh);\n",
       "    }\n",
       "if (force === true) {\n",
       "        display_loaded();\n",
       "      }} else if (Date.now() < root._bokeh_timeout) {\n",
       "      setTimeout(run_inline_js, 100);\n",
       "    } else if (!root._bokeh_failed_load) {\n",
       "      console.log(\"Bokeh: BokehJS failed to load within specified timeout.\");\n",
       "      root._bokeh_failed_load = true;\n",
       "    } else if (force !== true) {\n",
       "      const cell = $(document.getElementById(\"1001\")).parents('.cell').data().cell;\n",
       "      cell.output_area.append_execute_result(NB_LOAD_WARNING)\n",
       "    }\n",
       "  }\n",
       "\n",
       "  if (root._bokeh_is_loading === 0) {\n",
       "    console.debug(\"Bokeh: BokehJS loaded, going straight to plotting\");\n",
       "    run_inline_js();\n",
       "  } else {\n",
       "    load_libs(css_urls, js_urls, function() {\n",
       "      console.debug(\"Bokeh: BokehJS plotting callback run at\", now());\n",
       "      run_inline_js();\n",
       "    });\n",
       "  }\n",
       "}(window));"
      ],
      "application/vnd.bokehjs_load.v0+json": "(function(root) {\n  function now() {\n    return new Date();\n  }\n\n  const force = true;\n\n  if (typeof root._bokeh_onload_callbacks === \"undefined\" || force === true) {\n    root._bokeh_onload_callbacks = [];\n    root._bokeh_is_loading = undefined;\n  }\n\n\n  if (typeof (root._bokeh_timeout) === \"undefined\" || force === true) {\n    root._bokeh_timeout = Date.now() + 5000;\n    root._bokeh_failed_load = false;\n  }\n\n  const NB_LOAD_WARNING = {'data': {'text/html':\n     \"<div style='background-color: #fdd'>\\n\"+\n     \"<p>\\n\"+\n     \"BokehJS does not appear to have successfully loaded. If loading BokehJS from CDN, this \\n\"+\n     \"may be due to a slow or bad network connection. Possible fixes:\\n\"+\n     \"</p>\\n\"+\n     \"<ul>\\n\"+\n     \"<li>re-rerun `output_notebook()` to attempt to load from CDN again, or</li>\\n\"+\n     \"<li>use INLINE resources instead, as so:</li>\\n\"+\n     \"</ul>\\n\"+\n     \"<code>\\n\"+\n     \"from bokeh.resources import INLINE\\n\"+\n     \"output_notebook(resources=INLINE)\\n\"+\n     \"</code>\\n\"+\n     \"</div>\"}};\n\n  function display_loaded() {\n    const el = document.getElementById(\"1001\");\n    if (el != null) {\n      el.textContent = \"BokehJS is loading...\";\n    }\n    if (root.Bokeh !== undefined) {\n      if (el != null) {\n        el.textContent = \"BokehJS \" + root.Bokeh.version + \" successfully loaded.\";\n      }\n    } else if (Date.now() < root._bokeh_timeout) {\n      setTimeout(display_loaded, 100)\n    }\n  }\n\n  function run_callbacks() {\n    try {\n      root._bokeh_onload_callbacks.forEach(function(callback) {\n        if (callback != null)\n          callback();\n      });\n    } finally {\n      delete root._bokeh_onload_callbacks\n    }\n    console.debug(\"Bokeh: all callbacks have finished\");\n  }\n\n  function load_libs(css_urls, js_urls, callback) {\n    if (css_urls == null) css_urls = [];\n    if (js_urls == null) js_urls = [];\n\n    root._bokeh_onload_callbacks.push(callback);\n    if (root._bokeh_is_loading > 0) {\n      console.debug(\"Bokeh: BokehJS is being loaded, scheduling callback at\", now());\n      return null;\n    }\n    if (js_urls == null || js_urls.length === 0) {\n      run_callbacks();\n      return null;\n    }\n    console.debug(\"Bokeh: BokehJS not loaded, scheduling load and callback at\", now());\n    root._bokeh_is_loading = css_urls.length + js_urls.length;\n\n    function on_load() {\n      root._bokeh_is_loading--;\n      if (root._bokeh_is_loading === 0) {\n        console.debug(\"Bokeh: all BokehJS libraries/stylesheets loaded\");\n        run_callbacks()\n      }\n    }\n\n    function on_error(url) {\n      console.error(\"failed to load \" + url);\n    }\n\n    for (let i = 0; i < css_urls.length; i++) {\n      const url = css_urls[i];\n      const element = document.createElement(\"link\");\n      element.onload = on_load;\n      element.onerror = on_error.bind(null, url);\n      element.rel = \"stylesheet\";\n      element.type = \"text/css\";\n      element.href = url;\n      console.debug(\"Bokeh: injecting link tag for BokehJS stylesheet: \", url);\n      document.body.appendChild(element);\n    }\n\n    for (let i = 0; i < js_urls.length; i++) {\n      const url = js_urls[i];\n      const element = document.createElement('script');\n      element.onload = on_load;\n      element.onerror = on_error.bind(null, url);\n      element.async = false;\n      element.src = url;\n      console.debug(\"Bokeh: injecting script tag for BokehJS library: \", url);\n      document.head.appendChild(element);\n    }\n  };\n\n  function inject_raw_css(css) {\n    const element = document.createElement(\"style\");\n    element.appendChild(document.createTextNode(css));\n    document.body.appendChild(element);\n  }\n\n  const js_urls = [\"https://cdn.bokeh.org/bokeh/release/bokeh-2.4.3.min.js\", \"https://cdn.bokeh.org/bokeh/release/bokeh-gl-2.4.3.min.js\", \"https://cdn.bokeh.org/bokeh/release/bokeh-widgets-2.4.3.min.js\", \"https://cdn.bokeh.org/bokeh/release/bokeh-tables-2.4.3.min.js\", \"https://cdn.bokeh.org/bokeh/release/bokeh-mathjax-2.4.3.min.js\"];\n  const css_urls = [];\n\n  const inline_js = [    function(Bokeh) {\n      Bokeh.set_log_level(\"info\");\n    },\nfunction(Bokeh) {\n    }\n  ];\n\n  function run_inline_js() {\n    if (root.Bokeh !== undefined || force === true) {\n          for (let i = 0; i < inline_js.length; i++) {\n      inline_js[i].call(root, root.Bokeh);\n    }\nif (force === true) {\n        display_loaded();\n      }} else if (Date.now() < root._bokeh_timeout) {\n      setTimeout(run_inline_js, 100);\n    } else if (!root._bokeh_failed_load) {\n      console.log(\"Bokeh: BokehJS failed to load within specified timeout.\");\n      root._bokeh_failed_load = true;\n    } else if (force !== true) {\n      const cell = $(document.getElementById(\"1001\")).parents('.cell').data().cell;\n      cell.output_area.append_execute_result(NB_LOAD_WARNING)\n    }\n  }\n\n  if (root._bokeh_is_loading === 0) {\n    console.debug(\"Bokeh: BokehJS loaded, going straight to plotting\");\n    run_inline_js();\n  } else {\n    load_libs(css_urls, js_urls, function() {\n      console.debug(\"Bokeh: BokehJS plotting callback run at\", now());\n      run_inline_js();\n    });\n  }\n}(window));"
     },
     "metadata": {},
     "output_type": "display_data"
    }
   ],
   "source": [
    "%load_ext autoreload\n",
    "%autoreload 2\n",
    "import sys\n",
    "sys.path.append('../../pyopenms-viz')\n",
    "\n",
    "import pandas as pd\n",
    "from bokeh.io import output_notebook, show\n",
    "\n",
    "output_notebook()"
   ]
  },
  {
   "cell_type": "code",
   "execution_count": 2,
   "id": "3e5c7b62-9c04-4ef4-93ad-5c148fdbebae",
   "metadata": {},
   "outputs": [
    {
     "name": "stdout",
     "output_type": "stream",
     "text": [
      "   native_id  ms_level          mz           rt         int  precursor_mz  \\\n",
      "0        NaN         1  642.334187  6225.005106  229.011740      642.3295   \n",
      "1        NaN         2  504.262011  6225.110817  152.002630      642.3295   \n",
      "2        NaN         2  591.298142  6225.110817  273.003703      642.3295   \n",
      "3        NaN         2  704.384928  6225.110817   41.000973      642.3295   \n",
      "4        NaN         2  704.389080  6225.110817   41.000973      642.3295   \n",
      "\n",
      "   product_mz Annotation  \n",
      "0    642.3295       prec  \n",
      "1    504.2664       y4^1  \n",
      "2    591.2984       y5^1  \n",
      "3    704.3825       y6^1  \n",
      "4    704.3825       y6^1  \n",
      "   leftWidth  rightWidth  apexIntensity\n",
      "0       6235        6250         345083\n"
     ]
    }
   ],
   "source": [
    "df_chrom = pd.read_csv(\"../test/test_data/ionMobilityTestChromatogramDf.tsv\", sep=\"\\t\")\n",
    "print(df_chrom.head())\n",
    "df_feat = pd.read_csv(\"../test/test_data/ionMobilityTestChromatogramFeatures.tsv\", sep=\"\\t\")\n",
    "print(df_feat.head())"
   ]
  },
  {
   "cell_type": "markdown",
   "id": "e851bc74-c245-4090-8b84-ac4a91457e1b",
   "metadata": {},
   "source": [
    "Let's plot some chromatograms, first we need to load a config class to set some parameters, and load the main pyopenmsviz class to make plot function calls.\n",
    "\n",
    "TODO: Add default configs to the plotting classes themselves"
   ]
  },
  {
   "cell_type": "code",
   "execution_count": 3,
   "id": "e912fca4-2c59-485c-a409-cb2e8c3ee584",
   "metadata": {},
   "outputs": [],
   "source": [
    "from pyopenms_viz.plotting._config import ChromatogramPlotterConfig, LegendConfig\n",
    "from pyopenms_viz.pyopenmsviz import pyopenmsviz"
   ]
  },
  {
   "cell_type": "markdown",
   "id": "3fc027f6-c7fc-4788-a033-5f70d4213be8",
   "metadata": {},
   "source": [
    "## Plotting with pyopenmsviz\n",
    "\n",
    "We can pass the pandas dataframe to initiate a pyopenmsviz object, which we can use for plotting. We specify the columns we want to plot on the x and y axies, and we specify what kind of plot to generate using a specified backend."
   ]
  },
  {
   "cell_type": "code",
   "execution_count": 4,
   "id": "7acee3f8-6120-4a9a-ad45-cc482c27dda2",
   "metadata": {},
   "outputs": [
    {
     "name": "stderr",
     "output_type": "stream",
     "text": [
      "BokehDeprecationWarning: raw string path was deprecated in Bokeh 2.4.0 and will be removed, use pathlib.Path instead.\n"
     ]
    },
    {
     "data": {
      "application/vnd.bokehjs_exec.v0+json": "",
      "text/html": [
       "<script id=\"1054\">\n",
       "  (function() {\n",
       "    const xhr = new XMLHttpRequest()\n",
       "    xhr.responseType = 'blob';\n",
       "    xhr.open('GET', \"http://localhost:38589/autoload.js?bokeh-autoload-element=1054&bokeh-absolute-url=http://localhost:38589&resources=none\", true);\n",
       "    xhr.onload = function (event) {\n",
       "      const script = document.createElement('script');\n",
       "      const src = URL.createObjectURL(event.target.response);\n",
       "      script.src = src;\n",
       "      document.body.appendChild(script);\n",
       "    };\n",
       "    xhr.send();\n",
       "  })();\n",
       "</script>"
      ]
     },
     "metadata": {
      "application/vnd.bokehjs_exec.v0+json": {
       "server_id": "f65e3946e37e4d77829809b37f34fdd7"
      }
     },
     "output_type": "display_data"
    }
   ],
   "source": [
    "data = pyopenmsviz(df_chrom)\n",
    "plot_obj = data.plot(x='rt', y='int', kind='chromatogram', backend='bokeh')"
   ]
  },
  {
   "cell_type": "markdown",
   "id": "942e66d2-60f6-4b82-830f-8b5b2dd91eb0",
   "metadata": {},
   "source": [
    "We can pass additional arguments to the plot method to configure the plot and how the data is plotted. For example, we can use the `by` argument to control how the data is separated when plotting individual traces based on a column in the dataframe specified by the `by` argument."
   ]
  },
  {
   "cell_type": "code",
   "execution_count": 5,
   "id": "84e1d93a-0fda-4aa6-a966-ad31efcd538d",
   "metadata": {},
   "outputs": [
    {
     "name": "stderr",
     "output_type": "stream",
     "text": [
      "BokehDeprecationWarning: raw string path was deprecated in Bokeh 2.4.0 and will be removed, use pathlib.Path instead.\n"
     ]
    },
    {
     "data": {
      "application/vnd.bokehjs_exec.v0+json": "",
      "text/html": [
       "<script id=\"1156\">\n",
       "  (function() {\n",
       "    const xhr = new XMLHttpRequest()\n",
       "    xhr.responseType = 'blob';\n",
       "    xhr.open('GET', \"http://localhost:35905/autoload.js?bokeh-autoload-element=1156&bokeh-absolute-url=http://localhost:35905&resources=none\", true);\n",
       "    xhr.onload = function (event) {\n",
       "      const script = document.createElement('script');\n",
       "      const src = URL.createObjectURL(event.target.response);\n",
       "      script.src = src;\n",
       "      document.body.appendChild(script);\n",
       "    };\n",
       "    xhr.send();\n",
       "  })();\n",
       "</script>"
      ]
     },
     "metadata": {
      "application/vnd.bokehjs_exec.v0+json": {
       "server_id": "dea434ba563946eab23faee4583e99bc"
      }
     },
     "output_type": "display_data"
    }
   ],
   "source": [
    "plot_obj = data.plot(x='rt', y='int', kind='chromatogram', by=\"Annotation\", backend='bokeh')"
   ]
  },
  {
   "cell_type": "markdown",
   "id": "68e54ea8-bc22-47af-b9d0-1bdbd1069865",
   "metadata": {},
   "source": [
    "We can also plot a spectrum using the same object"
   ]
  },
  {
   "cell_type": "code",
   "execution_count": 6,
   "id": "d07e6255-c6b5-425f-a82a-1ae574ceb2fb",
   "metadata": {},
   "outputs": [
    {
     "data": {
      "application/vnd.bokehjs_exec.v0+json": "",
      "text/html": [
       "<script id=\"1249\">\n",
       "  (function() {\n",
       "    const xhr = new XMLHttpRequest()\n",
       "    xhr.responseType = 'blob';\n",
       "    xhr.open('GET', \"http://localhost:34793/autoload.js?bokeh-autoload-element=1249&bokeh-absolute-url=http://localhost:34793&resources=none\", true);\n",
       "    xhr.onload = function (event) {\n",
       "      const script = document.createElement('script');\n",
       "      const src = URL.createObjectURL(event.target.response);\n",
       "      script.src = src;\n",
       "      document.body.appendChild(script);\n",
       "    };\n",
       "    xhr.send();\n",
       "  })();\n",
       "</script>"
      ]
     },
     "metadata": {
      "application/vnd.bokehjs_exec.v0+json": {
       "server_id": "c7eeb9cd14da470a8406464c5f195984"
      }
     },
     "output_type": "display_data"
    }
   ],
   "source": [
    "plot_obj = data.plot(x='mz', y='int', kind='spectrum', by=\"Annotation\", backend='bokeh')"
   ]
  },
  {
   "cell_type": "code",
   "execution_count": 7,
   "id": "3636e7ee-68de-4d23-988c-c5a5746d6df7",
   "metadata": {},
   "outputs": [
    {
     "data": {
      "application/vnd.bokehjs_exec.v0+json": "",
      "text/html": [
       "<script id=\"1341\">\n",
       "  (function() {\n",
       "    const xhr = new XMLHttpRequest()\n",
       "    xhr.responseType = 'blob';\n",
       "    xhr.open('GET', \"http://localhost:34749/autoload.js?bokeh-autoload-element=1341&bokeh-absolute-url=http://localhost:34749&resources=none\", true);\n",
       "    xhr.onload = function (event) {\n",
       "      const script = document.createElement('script');\n",
       "      const src = URL.createObjectURL(event.target.response);\n",
       "      script.src = src;\n",
       "      document.body.appendChild(script);\n",
       "    };\n",
       "    xhr.send();\n",
       "  })();\n",
       "</script>"
      ]
     },
     "metadata": {
      "application/vnd.bokehjs_exec.v0+json": {
       "server_id": "71fe36dbcecd48de90d5485dfc21f5c7"
      }
     },
     "output_type": "display_data"
    }
   ],
   "source": [
    "plot_obj = data.plot(x='rt', y='mz', z='int', kind='feature_heatmap', by=\"Annotation\", ylabel=\"mass-to-charge\", backend='bokeh')"
   ]
  },
  {
   "cell_type": "markdown",
   "id": "1597d27c-4e3a-4c9d-bd7d-4ceaa47de635",
   "metadata": {},
   "source": [
    "## Aesthetics and Plot Customization"
   ]
  },
  {
   "cell_type": "markdown",
   "id": "271069bc-5b81-4c19-9f63-051d1b343434",
   "metadata": {},
   "source": [
    "We can also pass additional arguments to control the aesthetics of the plot, such as title"
   ]
  },
  {
   "cell_type": "code",
   "execution_count": 8,
   "id": "416742e9-1dd3-4949-9401-bf54047bb0d0",
   "metadata": {},
   "outputs": [
    {
     "name": "stderr",
     "output_type": "stream",
     "text": [
      "BokehDeprecationWarning: raw string path was deprecated in Bokeh 2.4.0 and will be removed, use pathlib.Path instead.\n"
     ]
    },
    {
     "data": {
      "application/vnd.bokehjs_exec.v0+json": "",
      "text/html": [
       "<script id=\"1443\">\n",
       "  (function() {\n",
       "    const xhr = new XMLHttpRequest()\n",
       "    xhr.responseType = 'blob';\n",
       "    xhr.open('GET', \"http://localhost:35147/autoload.js?bokeh-autoload-element=1443&bokeh-absolute-url=http://localhost:35147&resources=none\", true);\n",
       "    xhr.onload = function (event) {\n",
       "      const script = document.createElement('script');\n",
       "      const src = URL.createObjectURL(event.target.response);\n",
       "      script.src = src;\n",
       "      document.body.appendChild(script);\n",
       "    };\n",
       "    xhr.send();\n",
       "  })();\n",
       "</script>"
      ]
     },
     "metadata": {
      "application/vnd.bokehjs_exec.v0+json": {
       "server_id": "651dc29bbb5a4c529cc6ae266302cadf"
      }
     },
     "output_type": "display_data"
    }
   ],
   "source": [
    "plot_obj = data.plot(x='rt', y='int', kind='chromatogram', by=\"Annotation\", title=\"Extracted Ion Chromatogram\", backend='bokeh')"
   ]
  },
  {
   "cell_type": "markdown",
   "id": "ae8b9d06-afa0-4f56-bbb0-4df29235d011",
   "metadata": {},
   "source": [
    "We can also pass a config object to control all of the customization of the plot in one place"
   ]
  },
  {
   "cell_type": "code",
   "execution_count": 9,
   "id": "76e70ebf-5185-4b91-979f-6cd0d599b93d",
   "metadata": {},
   "outputs": [
    {
     "name": "stderr",
     "output_type": "stream",
     "text": [
      "BokehDeprecationWarning: raw string path was deprecated in Bokeh 2.4.0 and will be removed, use pathlib.Path instead.\n"
     ]
    },
    {
     "data": {
      "application/vnd.bokehjs_exec.v0+json": "",
      "text/html": [
       "<script id=\"1545\">\n",
       "  (function() {\n",
       "    const xhr = new XMLHttpRequest()\n",
       "    xhr.responseType = 'blob';\n",
       "    xhr.open('GET', \"http://localhost:46365/autoload.js?bokeh-autoload-element=1545&bokeh-absolute-url=http://localhost:46365&resources=none\", true);\n",
       "    xhr.onload = function (event) {\n",
       "      const script = document.createElement('script');\n",
       "      const src = URL.createObjectURL(event.target.response);\n",
       "      script.src = src;\n",
       "      document.body.appendChild(script);\n",
       "    };\n",
       "    xhr.send();\n",
       "  })();\n",
       "</script>"
      ]
     },
     "metadata": {
      "application/vnd.bokehjs_exec.v0+json": {
       "server_id": "5a9dbb2bb48843dab70d91769029f7e4"
      }
     },
     "output_type": "display_data"
    }
   ],
   "source": [
    "config = ChromatogramPlotterConfig(title=\"Extracted Ion Chromatogram\", \n",
    "                            xlabel=\"Retention Time [sec]\", \n",
    "                            ylabel=\"Intensity\", \n",
    "                            height=500, width=800,\n",
    "                            grid=False, show_plot=True,\n",
    "                            toolbar_location='above',\n",
    "                            legend=LegendConfig(title=\"Transition\", onClick=\"hide\")\n",
    "                           )\n",
    "plot_obj = data.plot(x='rt', y='int', kind='chromatogram', by=\"Annotation\", config=config, backend='bokeh')"
   ]
  },
  {
   "cell_type": "markdown",
   "id": "8ac491a8-f501-4410-8dba-674468a1c91d",
   "metadata": {},
   "source": [
    "### Adding bounding boxes to the plot\n",
    "\n",
    "It's possible to either add an additional dataframe (`feautre_data` arg) containing leftWidth and rightWidth columns specifying peak boundaries or draw bounding boxes to the plot extract coordinates for manual peak boundaries. There is a box-edit tool with the peak icon than you can select to draw boxes. \n",
    "\n",
    "- To draw boxes - press shift and double click anywhere on the plot to draw. To stop drawing double click again.\n",
    "- To move boxes - double click on a box and move it around, and double click again to set it in place\n",
    "- To delete boxes - double click on a box, and press backspace to remove. \n",
    "- Unclick the box-edit tool to deactivate the tool"
   ]
  },
  {
   "cell_type": "code",
   "execution_count": 10,
   "id": "5283a2df-49af-439d-9aac-466e250634ab",
   "metadata": {},
   "outputs": [
    {
     "name": "stderr",
     "output_type": "stream",
     "text": [
      "BokehDeprecationWarning: raw string path was deprecated in Bokeh 2.4.0 and will be removed, use pathlib.Path instead.\n"
     ]
    },
    {
     "data": {
      "application/vnd.bokehjs_exec.v0+json": "",
      "text/html": [
       "<script id=\"1655\">\n",
       "  (function() {\n",
       "    const xhr = new XMLHttpRequest()\n",
       "    xhr.responseType = 'blob';\n",
       "    xhr.open('GET', \"http://localhost:35765/autoload.js?bokeh-autoload-element=1655&bokeh-absolute-url=http://localhost:35765&resources=none\", true);\n",
       "    xhr.onload = function (event) {\n",
       "      const script = document.createElement('script');\n",
       "      const src = URL.createObjectURL(event.target.response);\n",
       "      script.src = src;\n",
       "      document.body.appendChild(script);\n",
       "    };\n",
       "    xhr.send();\n",
       "  })();\n",
       "</script>"
      ]
     },
     "metadata": {
      "application/vnd.bokehjs_exec.v0+json": {
       "server_id": "11bb3a5370b942aaa998ae907cc394e7"
      }
     },
     "output_type": "display_data"
    }
   ],
   "source": [
    "plot_obj = data.plot(x='rt', y='int', kind='chromatogram', feature_data=df_feat, by=\"Annotation\", config=config, backend='bokeh')"
   ]
  },
  {
   "cell_type": "markdown",
   "id": "4810789a-5f72-4ae4-b1ad-8bcb42b935be",
   "metadata": {},
   "source": [
    "To obtain the coordinates, you can call the `get_manual_bounding_box_coords` method to extract the draw boundaries on the x-axis."
   ]
  },
  {
   "cell_type": "code",
   "execution_count": 11,
   "id": "9a8c682b-5978-44bc-a446-0709758466a1",
   "metadata": {},
   "outputs": [
    {
     "data": {
      "text/html": [
       "<div>\n",
       "<style scoped>\n",
       "    .dataframe tbody tr th:only-of-type {\n",
       "        vertical-align: middle;\n",
       "    }\n",
       "\n",
       "    .dataframe tbody tr th {\n",
       "        vertical-align: top;\n",
       "    }\n",
       "\n",
       "    .dataframe thead th {\n",
       "        text-align: right;\n",
       "    }\n",
       "</style>\n",
       "<table border=\"1\" class=\"dataframe\">\n",
       "  <thead>\n",
       "    <tr style=\"text-align: right;\">\n",
       "      <th></th>\n",
       "      <th>leftWidth</th>\n",
       "      <th>base_to_base_width</th>\n",
       "      <th>rightWidth</th>\n",
       "      <th>apexIntensity</th>\n",
       "    </tr>\n",
       "  </thead>\n",
       "  <tbody>\n",
       "  </tbody>\n",
       "</table>\n",
       "</div>"
      ],
      "text/plain": [
       "Empty DataFrame\n",
       "Columns: [leftWidth, base_to_base_width, rightWidth, apexIntensity]\n",
       "Index: []"
      ]
     },
     "execution_count": 11,
     "metadata": {},
     "output_type": "execute_result"
    }
   ],
   "source": [
    "plot_obj.get_manual_bounding_box_coords()"
   ]
  },
  {
   "cell_type": "markdown",
   "id": "8daf5882-f48e-4b41-a461-5265059ad3c5",
   "metadata": {},
   "source": [
    "We can also similarly do the same for spectrum plots, by passing a reference spectrum dataframe"
   ]
  },
  {
   "cell_type": "code",
   "execution_count": 12,
   "id": "8f4ea8e4-5ec0-4334-a752-83c6dfd742f8",
   "metadata": {},
   "outputs": [
    {
     "data": {
      "application/vnd.bokehjs_exec.v0+json": "",
      "text/html": [
       "<script id=\"1806\">\n",
       "  (function() {\n",
       "    const xhr = new XMLHttpRequest()\n",
       "    xhr.responseType = 'blob';\n",
       "    xhr.open('GET', \"http://localhost:44705/autoload.js?bokeh-autoload-element=1806&bokeh-absolute-url=http://localhost:44705&resources=none\", true);\n",
       "    xhr.onload = function (event) {\n",
       "      const script = document.createElement('script');\n",
       "      const src = URL.createObjectURL(event.target.response);\n",
       "      script.src = src;\n",
       "      document.body.appendChild(script);\n",
       "    };\n",
       "    xhr.send();\n",
       "  })();\n",
       "</script>"
      ]
     },
     "metadata": {
      "application/vnd.bokehjs_exec.v0+json": {
       "server_id": "c0066e1baa1d4158aa2b94d99438e047"
      }
     },
     "output_type": "display_data"
    }
   ],
   "source": [
    "import numpy as np\n",
    "\n",
    "# Add noise to the 'int' column\n",
    "noise_int = np.random.normal(0, 500, size=len(df_chrom))  \n",
    "df_ref = df_chrom.copy()\n",
    "df_ref['int'] = df_ref['int'] + noise_int\n",
    "\n",
    "# Add noise to the 'mz' column\n",
    "noise_mz = np.random.normal(0, 0.001, size=len(df_chrom))  \n",
    "df_ref['mz'] = df_ref['mz'] + noise_mz\n",
    "\n",
    "plot_obj = data.plot(x='mz', y='int', kind='spectrum', reference_spectrum=df_ref, by=\"Annotation\", mirror_spectrum=True, width=800, grid=False, backend='bokeh')"
   ]
  },
  {
   "cell_type": "code",
   "execution_count": 13,
   "id": "6b92bd64-4659-492a-9ff0-63642064976a",
   "metadata": {},
   "outputs": [
    {
     "data": {
      "text/html": [
       "<div>\n",
       "<style scoped>\n",
       "    .dataframe tbody tr th:only-of-type {\n",
       "        vertical-align: middle;\n",
       "    }\n",
       "\n",
       "    .dataframe tbody tr th {\n",
       "        vertical-align: top;\n",
       "    }\n",
       "\n",
       "    .dataframe thead th {\n",
       "        text-align: right;\n",
       "    }\n",
       "</style>\n",
       "<table border=\"1\" class=\"dataframe\">\n",
       "  <thead>\n",
       "    <tr style=\"text-align: right;\">\n",
       "      <th></th>\n",
       "      <th>native_id</th>\n",
       "      <th>ms_level</th>\n",
       "      <th>mz</th>\n",
       "      <th>rt</th>\n",
       "      <th>int</th>\n",
       "      <th>precursor_mz</th>\n",
       "      <th>product_mz</th>\n",
       "      <th>Annotation</th>\n",
       "    </tr>\n",
       "  </thead>\n",
       "  <tbody>\n",
       "    <tr>\n",
       "      <th>0</th>\n",
       "      <td>NaN</td>\n",
       "      <td>1</td>\n",
       "      <td>642.333369</td>\n",
       "      <td>6225.005106</td>\n",
       "      <td>-23.485224</td>\n",
       "      <td>642.3295</td>\n",
       "      <td>642.3295</td>\n",
       "      <td>prec</td>\n",
       "    </tr>\n",
       "    <tr>\n",
       "      <th>1</th>\n",
       "      <td>NaN</td>\n",
       "      <td>2</td>\n",
       "      <td>504.263321</td>\n",
       "      <td>6225.110817</td>\n",
       "      <td>-17.774954</td>\n",
       "      <td>642.3295</td>\n",
       "      <td>504.2664</td>\n",
       "      <td>y4^1</td>\n",
       "    </tr>\n",
       "    <tr>\n",
       "      <th>2</th>\n",
       "      <td>NaN</td>\n",
       "      <td>2</td>\n",
       "      <td>591.298018</td>\n",
       "      <td>6225.110817</td>\n",
       "      <td>7.910860</td>\n",
       "      <td>642.3295</td>\n",
       "      <td>591.2984</td>\n",
       "      <td>y5^1</td>\n",
       "    </tr>\n",
       "    <tr>\n",
       "      <th>3</th>\n",
       "      <td>NaN</td>\n",
       "      <td>2</td>\n",
       "      <td>704.384029</td>\n",
       "      <td>6225.110817</td>\n",
       "      <td>-2.049540</td>\n",
       "      <td>642.3295</td>\n",
       "      <td>704.3825</td>\n",
       "      <td>y6^1</td>\n",
       "    </tr>\n",
       "    <tr>\n",
       "      <th>4</th>\n",
       "      <td>NaN</td>\n",
       "      <td>2</td>\n",
       "      <td>704.387742</td>\n",
       "      <td>6225.110817</td>\n",
       "      <td>-16.180686</td>\n",
       "      <td>642.3295</td>\n",
       "      <td>704.3825</td>\n",
       "      <td>y6^1</td>\n",
       "    </tr>\n",
       "    <tr>\n",
       "      <th>...</th>\n",
       "      <td>...</td>\n",
       "      <td>...</td>\n",
       "      <td>...</td>\n",
       "      <td>...</td>\n",
       "      <td>...</td>\n",
       "      <td>...</td>\n",
       "      <td>...</td>\n",
       "      <td>...</td>\n",
       "    </tr>\n",
       "    <tr>\n",
       "      <th>548</th>\n",
       "      <td>NaN</td>\n",
       "      <td>2</td>\n",
       "      <td>1065.534901</td>\n",
       "      <td>6266.515136</td>\n",
       "      <td>-31.285549</td>\n",
       "      <td>642.3295</td>\n",
       "      <td>1065.5463</td>\n",
       "      <td>y9^1</td>\n",
       "    </tr>\n",
       "    <tr>\n",
       "      <th>549</th>\n",
       "      <td>NaN</td>\n",
       "      <td>2</td>\n",
       "      <td>1065.541528</td>\n",
       "      <td>6266.515136</td>\n",
       "      <td>16.155275</td>\n",
       "      <td>642.3295</td>\n",
       "      <td>1065.5463</td>\n",
       "      <td>y9^1</td>\n",
       "    </tr>\n",
       "    <tr>\n",
       "      <th>550</th>\n",
       "      <td>NaN</td>\n",
       "      <td>2</td>\n",
       "      <td>1065.546397</td>\n",
       "      <td>6266.515136</td>\n",
       "      <td>13.221593</td>\n",
       "      <td>642.3295</td>\n",
       "      <td>1065.5463</td>\n",
       "      <td>y9^1</td>\n",
       "    </tr>\n",
       "    <tr>\n",
       "      <th>551</th>\n",
       "      <td>NaN</td>\n",
       "      <td>2</td>\n",
       "      <td>1065.549654</td>\n",
       "      <td>6266.515136</td>\n",
       "      <td>12.467246</td>\n",
       "      <td>642.3295</td>\n",
       "      <td>1065.5463</td>\n",
       "      <td>y9^1</td>\n",
       "    </tr>\n",
       "    <tr>\n",
       "      <th>552</th>\n",
       "      <td>NaN</td>\n",
       "      <td>2</td>\n",
       "      <td>1065.556412</td>\n",
       "      <td>6266.515136</td>\n",
       "      <td>-9.738827</td>\n",
       "      <td>642.3295</td>\n",
       "      <td>1065.5463</td>\n",
       "      <td>y9^1</td>\n",
       "    </tr>\n",
       "  </tbody>\n",
       "</table>\n",
       "<p>553 rows × 8 columns</p>\n",
       "</div>"
      ],
      "text/plain": [
       "     native_id  ms_level           mz           rt        int  precursor_mz  \\\n",
       "0          NaN         1   642.333369  6225.005106 -23.485224      642.3295   \n",
       "1          NaN         2   504.263321  6225.110817 -17.774954      642.3295   \n",
       "2          NaN         2   591.298018  6225.110817   7.910860      642.3295   \n",
       "3          NaN         2   704.384029  6225.110817  -2.049540      642.3295   \n",
       "4          NaN         2   704.387742  6225.110817 -16.180686      642.3295   \n",
       "..         ...       ...          ...          ...        ...           ...   \n",
       "548        NaN         2  1065.534901  6266.515136 -31.285549      642.3295   \n",
       "549        NaN         2  1065.541528  6266.515136  16.155275      642.3295   \n",
       "550        NaN         2  1065.546397  6266.515136  13.221593      642.3295   \n",
       "551        NaN         2  1065.549654  6266.515136  12.467246      642.3295   \n",
       "552        NaN         2  1065.556412  6266.515136  -9.738827      642.3295   \n",
       "\n",
       "     product_mz Annotation  \n",
       "0      642.3295       prec  \n",
       "1      504.2664       y4^1  \n",
       "2      591.2984       y5^1  \n",
       "3      704.3825       y6^1  \n",
       "4      704.3825       y6^1  \n",
       "..          ...        ...  \n",
       "548   1065.5463       y9^1  \n",
       "549   1065.5463       y9^1  \n",
       "550   1065.5463       y9^1  \n",
       "551   1065.5463       y9^1  \n",
       "552   1065.5463       y9^1  \n",
       "\n",
       "[553 rows x 8 columns]"
      ]
     },
     "execution_count": 13,
     "metadata": {},
     "output_type": "execute_result"
    }
   ],
   "source": [
    "df_ref"
   ]
  },
  {
   "cell_type": "markdown",
   "id": "cc301938-49f9-4532-914c-4dc5bcd7e296",
   "metadata": {},
   "source": [
    "## Plotting directly from pandas dataframe\n",
    "\n",
    "Instead of initiating a pyopenmsviz class for plotting, you can directly call the plot method from the pandas dataframe object, and provide a custom backend plotting module. \n",
    "\n",
    "The entrypoint that is used by pandas to change the plotting backend from the dataframe `plot` method to call the plotting backend provided by pyopenms specficically for bokeh plotting is **pomsvib** (**p**y**o**pen**ms**_**vi**z **b**okeh)"
   ]
  },
  {
   "cell_type": "code",
   "execution_count": 15,
   "id": "7f1a6dfc-48a6-428a-a15d-40e85559f492",
   "metadata": {},
   "outputs": [
    {
     "name": "stderr",
     "output_type": "stream",
     "text": [
      "BokehDeprecationWarning: raw string path was deprecated in Bokeh 2.4.0 and will be removed, use pathlib.Path instead.\n"
     ]
    },
    {
     "data": {
      "application/vnd.bokehjs_exec.v0+json": "",
      "text/html": [
       "<script id=\"2915\">\n",
       "  (function() {\n",
       "    const xhr = new XMLHttpRequest()\n",
       "    xhr.responseType = 'blob';\n",
       "    xhr.open('GET', \"http://localhost:36399/autoload.js?bokeh-autoload-element=2915&bokeh-absolute-url=http://localhost:36399&resources=none\", true);\n",
       "    xhr.onload = function (event) {\n",
       "      const script = document.createElement('script');\n",
       "      const src = URL.createObjectURL(event.target.response);\n",
       "      script.src = src;\n",
       "      document.body.appendChild(script);\n",
       "    };\n",
       "    xhr.send();\n",
       "  })();\n",
       "</script>"
      ]
     },
     "metadata": {
      "application/vnd.bokehjs_exec.v0+json": {
       "server_id": "5e4c303fbb6d488897f948d39e2dec2a"
      }
     },
     "output_type": "display_data"
    },
    {
     "data": {
      "text/plain": [
       "<pyopenms_viz.plotting._bokeh.core.ChromatogramPlot at 0x7292a8594730>"
      ]
     },
     "execution_count": 15,
     "metadata": {},
     "output_type": "execute_result"
    }
   ],
   "source": [
    "df_chrom.plot(x='rt', y='int', kind='chromatogram', feature_data=df_feat, by=\"Annotation\", config=config, backend='pomsvib')"
   ]
  },
  {
   "cell_type": "markdown",
   "id": "f332c9e3-8939-4e3a-82a6-e80dce1d1a4a",
   "metadata": {},
   "source": [
    "You can also set the plotting backend for pandas dataframe globally for the entire session. Not sure if you would want to do this though it you had other regular plots you wanted to generate."
   ]
  },
  {
   "cell_type": "code",
   "execution_count": 14,
   "id": "51c539a2-debf-4aab-911e-a1f02893eb47",
   "metadata": {},
   "outputs": [
    {
     "name": "stderr",
     "output_type": "stream",
     "text": [
      "BokehDeprecationWarning: raw string path was deprecated in Bokeh 2.4.0 and will be removed, use pathlib.Path instead.\n"
     ]
    },
    {
     "data": {
      "application/vnd.bokehjs_exec.v0+json": "",
      "text/html": [
       "<script id=\"2722\">\n",
       "  (function() {\n",
       "    const xhr = new XMLHttpRequest()\n",
       "    xhr.responseType = 'blob';\n",
       "    xhr.open('GET', \"http://localhost:41103/autoload.js?bokeh-autoload-element=2722&bokeh-absolute-url=http://localhost:41103&resources=none\", true);\n",
       "    xhr.onload = function (event) {\n",
       "      const script = document.createElement('script');\n",
       "      const src = URL.createObjectURL(event.target.response);\n",
       "      script.src = src;\n",
       "      document.body.appendChild(script);\n",
       "    };\n",
       "    xhr.send();\n",
       "  })();\n",
       "</script>"
      ]
     },
     "metadata": {
      "application/vnd.bokehjs_exec.v0+json": {
       "server_id": "371146198dfe4e9dbce6354a4aba502a"
      }
     },
     "output_type": "display_data"
    },
    {
     "data": {
      "text/plain": [
       "<pyopenms_viz.plotting._bokeh.core.ChromatogramPlot at 0x729247b99b40>"
      ]
     },
     "execution_count": 14,
     "metadata": {},
     "output_type": "execute_result"
    }
   ],
   "source": [
    "pd.set_option(\"plotting.backend\", \"pomsvib\")\n",
    "\n",
    "df_chrom.plot(x='rt', y='int', kind='chromatogram', feature_data=df_feat, by=\"Annotation\", config=config)"
   ]
  }
 ],
 "metadata": {
  "kernelspec": {
   "display_name": "Python 3 (ipykernel)",
   "language": "python",
   "name": "python3"
  },
  "language_info": {
   "codemirror_mode": {
    "name": "ipython",
    "version": 3
   },
   "file_extension": ".py",
   "mimetype": "text/x-python",
   "name": "python",
   "nbconvert_exporter": "python",
   "pygments_lexer": "ipython3",
   "version": "3.10.14"
  }
 },
 "nbformat": 4,
 "nbformat_minor": 5
}
