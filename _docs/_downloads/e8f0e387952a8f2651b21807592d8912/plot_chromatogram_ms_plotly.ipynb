{
  "cells": [
    {
      "cell_type": "markdown",
      "metadata": {},
      "source": [
        "\n# Chromatogram ms_plotly\n\nThis example shows a chromatogram colored by mass trace. Since all fragment ion spectra coelute this provides strong evidence that the peptide is present.\n"
      ]
    },
    {
      "cell_type": "code",
      "execution_count": null,
      "metadata": {
        "collapsed": false
      },
      "outputs": [],
      "source": [
        "import pandas as pd\nfrom pyopenms_viz import TEST_DATA_PATH\n\npd.options.plotting.backend = \"ms_plotly\"\n\n# load the test file for example plotting\ndata = TEST_DATA_PATH() / \"ionMobilityTestChromatogramDf.tsv\"\ndf = pd.read_csv(data, sep=\"\\t\")\n\ndf.plot(\n    kind=\"chromatogram\",\n    x=\"rt\",\n    y=\"int\",\n    by=\"Annotation\",\n    legend=dict(bbox_to_anchor=(1, 0.7)),\n)"
      ]
    }
  ],
  "metadata": {
    "kernelspec": {
      "display_name": "Python 3",
      "language": "python",
      "name": "python3"
    },
    "language_info": {
      "codemirror_mode": {
        "name": "ipython",
        "version": 3
      },
      "file_extension": ".py",
      "mimetype": "text/x-python",
      "name": "python",
      "nbconvert_exporter": "python",
      "pygments_lexer": "ipython3",
      "version": "3.12.8"
    }
  },
  "nbformat": 4,
  "nbformat_minor": 0
}