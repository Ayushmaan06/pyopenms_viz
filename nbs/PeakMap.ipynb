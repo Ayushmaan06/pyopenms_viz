{
 "cells": [
  {
   "cell_type": "code",
   "execution_count": null,
   "metadata": {},
   "outputs": [],
   "source": [
    "!pip install -e ..\n",
    "\n",
    "import pandas as pd\n",
    "from bokeh.io import output_notebook\n",
    "output_notebook();\n",
    "\n",
    "# set global plotting backend for pandas\n",
    "pd.options.plotting.backend = \"ms_plotly\" # one of: \"ms_bokeh\" \"ms_matplotlib\" \"ms_plotly\"\n",
    "\n",
    "# df for MS experiment\n",
    "df_ms_experiment = pd.read_csv(\"../test/test_data/TestMSExperimentDf.tsv\", sep=\"\\t\")\n",
    "# df for ion mobility spectra\n",
    "df_ion_mobility_spectrum = pd.read_csv(\"../test/test_data/TestSpectrumDf.tsv\", sep=\"\\t\")"
   ]
  },
  {
   "cell_type": "code",
   "execution_count": null,
   "metadata": {},
   "outputs": [],
   "source": [
    "# MS experiment as peak map, peaks get binned by default if more then num_x_bins * num_y_bins\n",
    "df_ms_experiment.plot(x=\"RT\", y=\"mz\", z=\"inty\", kind=\"peakmap\")"
   ]
  },
  {
   "cell_type": "code",
   "execution_count": null,
   "metadata": {},
   "outputs": [],
   "source": [
    "# using logarithmic z scale can improve visualization with more details\n",
    "df_ms_experiment.plot(x=\"RT\", y=\"mz\", z=\"inty\", kind=\"peakmap\", z_log_scale=True)"
   ]
  },
  {
   "cell_type": "code",
   "execution_count": null,
   "metadata": {},
   "outputs": [],
   "source": [
    "# playing around with too low bin sizes...\n",
    "df_ms_experiment.plot(x=\"RT\", y=\"mz\", z=\"inty\", kind=\"peakmap\", num_x_bins=10, num_y_bins=10)"
   ]
  },
  {
   "cell_type": "code",
   "execution_count": null,
   "metadata": {},
   "outputs": [],
   "source": [
    "# playing around with larger bin sizes reveals more details...\n",
    "df_ms_experiment.plot(x=\"RT\", y=\"mz\", z=\"inty\", kind=\"peakmap\", num_x_bins=100, num_y_bins=100)"
   ]
  },
  {
   "cell_type": "code",
   "execution_count": null,
   "metadata": {},
   "outputs": [],
   "source": [
    "# turn of binning entirely, can be slow if peak map is large and often times not much more info is gained\n",
    "df_ms_experiment.plot(x=\"RT\", y=\"mz\", z=\"inty\", kind=\"peakmap\", bin_peaks=False)"
   ]
  },
  {
   "cell_type": "code",
   "execution_count": null,
   "metadata": {},
   "outputs": [],
   "source": [
    "# ion mobility spectrum as peak map and relative intensity values\n",
    "df_ion_mobility_spectrum.plot(x=\"mz\", y=\"ion_mobility\", z=\"intensity\", kind=\"peakmap\", xlabel=\"m/z\",\n",
    "                              ylabel=\"ion mobility\", relative_intensity=True)"
   ]
  },
  {
   "cell_type": "code",
   "execution_count": null,
   "metadata": {},
   "outputs": [],
   "source": [
    "# ion mobility spectrum as peak map, grouping by column values plots groups with different marker shapes\n",
    "df_ion_mobility_spectrum.plot(x=\"mz\", y=\"ion_mobility\", z=\"intensity\", kind=\"peakmap\", \n",
    "                              xlabel=\"m/z\", ylabel=\"ion mobility\", by=\"spectrum\")"
   ]
  }
 ],
 "metadata": {
  "kernelspec": {
   "display_name": "Python 3 (ipykernel)",
   "language": "python",
   "name": "python3"
  },
  "language_info": {
   "codemirror_mode": {
    "name": "ipython",
    "version": 3
   },
   "file_extension": ".py",
   "mimetype": "text/x-python",
   "name": "python",
   "nbconvert_exporter": "python",
   "pygments_lexer": "ipython3",
   "version": "3.11.9"
  }
 },
 "nbformat": 4,
 "nbformat_minor": 4
}
