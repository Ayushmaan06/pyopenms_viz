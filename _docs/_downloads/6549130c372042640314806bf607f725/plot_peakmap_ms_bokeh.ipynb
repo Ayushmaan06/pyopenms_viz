{
  "cells": [
    {
      "cell_type": "markdown",
      "metadata": {},
      "source": [
        "\n# PeakMap ms_bokeh\n\nThis shows a peakmap across m/z and retention time. This peakmap is quite clean because signals are extracted across the m/z dimension.\n"
      ]
    },
    {
      "cell_type": "code",
      "execution_count": null,
      "metadata": {
        "collapsed": false
      },
      "outputs": [],
      "source": [
        "import pandas as pd\nfrom pyopenms_viz import TEST_DATA_PATH\n\npd.options.plotting.backend = \"ms_bokeh\"\n\n# load the test filepath for example plotting\ndata = TEST_DATA_PATH() / \"ionMobilityTestFeatureDf.tsv\"\ndf = pd.read_csv(data, sep=\"\\t\")\n\n# Code to plot a peakmap\ndf.plot(kind=\"peakmap\", x=\"rt\", y=\"mz\", z=\"int\", aggregate_duplicates=True)"
      ]
    }
  ],
  "metadata": {
    "kernelspec": {
      "display_name": "Python 3",
      "language": "python",
      "name": "python3"
    },
    "language_info": {
      "codemirror_mode": {
        "name": "ipython",
        "version": 3
      },
      "file_extension": ".py",
      "mimetype": "text/x-python",
      "name": "python",
      "nbconvert_exporter": "python",
      "pygments_lexer": "ipython3",
      "version": "3.12.8"
    }
  },
  "nbformat": 4,
  "nbformat_minor": 0
}